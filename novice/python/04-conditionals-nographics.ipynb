{
 "metadata": {
  "name": "",
  "signature": "sha256:39a0dee1ba3a9761dae96499ca2282c5e8358d2582c95045159e02d1cb7b737c"
 },
 "nbformat": 3,
 "nbformat_minor": 0,
 "worksheets": [
  {
   "cells": [
    {
     "cell_type": "heading",
     "level": 2,
     "metadata": {
      "cell_tags": []
     },
     "source": [
      "Making Choices"
     ]
    },
    {
     "cell_type": "markdown",
     "metadata": {
      "cell_tags": []
     },
     "source": [
      "Our previous lessons have shown us how to manipulate data,\n",
      "define our own functions,\n",
      "and repeat things.\n",
      "However,\n",
      "the programs we have written so far always do the same things,\n",
      "regardless of what data they're given.\n",
      "We want programs to make choices based on the values they are manipulating.\n",
      "To help us see what decisions they're making,\n",
      "we'll start by looking at how computers manipulate images."
     ]
    },
    {
     "cell_type": "markdown",
     "metadata": {
      "cell_tags": [
       "objectives"
      ]
     },
     "source": [
      "#### Objectives\n",
      "\n",
      "*   Explain the similarities and differences between tuples and lists.\n",
      "*   Write conditional statements including `if`, `elif`, and `else` branches.\n",
      "*   Correctly evaluate expressions containing `and` and `or`.\n",
      "*   Correctly write and interpret code containing nested loops and conditionals.\n",
      "*   Explain the advantages of putting frequently-modified code in a function."
     ]
    },
    {
     "cell_type": "heading",
     "level": 3,
     "metadata": {
      "cell_tags": []
     },
     "source": [
      "Conditionals"
     ]
    },
    {
     "cell_type": "markdown",
     "metadata": {
      "cell_tags": []
     },
     "source": [
      "The other thing we need in order to create a heat map of our own\n",
      "is a way to pick a color based on a data value.\n",
      "The tool Python gives us for doing this is called a [conditional statement](../../gloss.html#conditional-statement),\n",
      "and looks like this:"
     ]
    },
    {
     "cell_type": "code",
     "collapsed": false,
     "input": [
      "num = 37\n",
      "if num > 100:\n",
      "    print 'greater'\n",
      "else:\n",
      "    print 'not greater'\n",
      "print 'done'"
     ],
     "language": "python",
     "metadata": {
      "cell_tags": []
     },
     "outputs": [
      {
       "output_type": "stream",
       "stream": "stdout",
       "text": [
        "not greater\n",
        "done\n"
       ]
      }
     ],
     "prompt_number": 15
    },
    {
     "cell_type": "markdown",
     "metadata": {
      "cell_tags": []
     },
     "source": [
      "The second line of this code uses the keyword `if` to tell Python that we want to make a choice.\n",
      "If the test that follows it is true,\n",
      "the body of the `if`\n",
      "(i.e., the lines indented underneath it) are executed.\n",
      "If the test is false,\n",
      "the body of the `else` is executed instead.\n",
      "Only one or the other is ever executed:"
     ]
    },
    {
     "cell_type": "markdown",
     "metadata": {
      "cell_tags": []
     },
     "source": [
      "<img src=\"files/img/python-flowchart-conditional.svg\" alt=\"Executing a Conditional\" />"
     ]
    },
    {
     "cell_type": "markdown",
     "metadata": {
      "cell_tags": []
     },
     "source": [
      "Conditional statements don't have to include an `else`.\n",
      "If there isn't one,\n",
      "Python simply does nothing if the test is false:"
     ]
    },
    {
     "cell_type": "code",
     "collapsed": false,
     "input": [
      "num = 53\n",
      "print 'before conditional...'\n",
      "if num > 100:\n",
      "    print '53 is greater than 100'\n",
      "print '...after conditional'"
     ],
     "language": "python",
     "metadata": {
      "cell_tags": []
     },
     "outputs": [
      {
       "output_type": "stream",
       "stream": "stdout",
       "text": [
        "before conditional...\n",
        "...after conditional\n"
       ]
      }
     ],
     "prompt_number": 16
    },
    {
     "cell_type": "markdown",
     "metadata": {},
     "source": [
      "#### Challenges\n",
      "\n",
      "1. Define a variable `x` and set it to some number.  \n",
      "Write a statement that prints \"X is even\" or \"X is odd\" depending on the value of the variable `x`."
     ]
    },
    {
     "cell_type": "code",
     "collapsed": false,
     "input": [
      "# Hint: There is an operator called \"modulo\" that is expressed as a % \n",
      "# sign that evaluates to the remainder after integer division.\n",
      "\n",
      "print 0 % 2\n",
      "print 1 % 2\n",
      "print 2 % 2\n",
      "print 3 % 2  # See where this is going?"
     ],
     "language": "python",
     "metadata": {},
     "outputs": []
    },
    {
     "cell_type": "code",
     "collapsed": false,
     "input": [],
     "language": "python",
     "metadata": {},
     "outputs": []
    },
    {
     "cell_type": "markdown",
     "metadata": {
      "cell_tags": []
     },
     "source": [
      "We can also chain several tests together using `elif`,\n",
      "which is short for \"else if\".\n",
      "This makes it simple to write a function that returns the sign of a number:"
     ]
    },
    {
     "cell_type": "code",
     "collapsed": false,
     "input": [
      "def sign(num):\n",
      "    if num > 0:\n",
      "        return 1\n",
      "    elif num == 0:\n",
      "        return 0\n",
      "    else:\n",
      "        return -1\n",
      "\n",
      "print 'sign of -3:', sign(-3)"
     ],
     "language": "python",
     "metadata": {
      "cell_tags": []
     },
     "outputs": [
      {
       "output_type": "stream",
       "stream": "stdout",
       "text": [
        "sign of -3: -1\n"
       ]
      }
     ],
     "prompt_number": 17
    },
    {
     "cell_type": "markdown",
     "metadata": {
      "cell_tags": []
     },
     "source": [
      "One important thing to notice the code above is that we use a double equals sign `==` to test for equality\n",
      "rather than a single equals sign\n",
      "because the latter is used to mean assignment.\n",
      "This convention was inherited from C,\n",
      "and while many other programming languages work the same way,\n",
      "it does take a bit of getting used to...\n",
      "\n",
      "We can also combine tests using `and` and `or`.\n",
      "`and` is only true if both parts are true:"
     ]
    },
    {
     "cell_type": "code",
     "collapsed": false,
     "input": [
      "if (1 > 0) and (-1 > 0):\n",
      "    print 'both parts are true'\n",
      "else:\n",
      "    print 'one part is not true'"
     ],
     "language": "python",
     "metadata": {
      "cell_tags": []
     },
     "outputs": [
      {
       "output_type": "stream",
       "stream": "stdout",
       "text": [
        "one part is not true\n"
       ]
      }
     ],
     "prompt_number": 18
    },
    {
     "cell_type": "markdown",
     "metadata": {
      "cell_tags": []
     },
     "source": [
      "while `or` is true if either part is true:"
     ]
    },
    {
     "cell_type": "code",
     "collapsed": false,
     "input": [
      "if (1 < 0) or ('left' < 'right'):\n",
      "    print 'at least one test is true'"
     ],
     "language": "python",
     "metadata": {
      "cell_tags": []
     },
     "outputs": [
      {
       "output_type": "stream",
       "stream": "stdout",
       "text": [
        "at least one test is true\n"
       ]
      }
     ],
     "prompt_number": 19
    },
    {
     "cell_type": "markdown",
     "metadata": {
      "cell_tags": []
     },
     "source": [
      "In this case,\n",
      "\"either\" means \"either or both\", not \"either one or the other but not both\"."
     ]
    },
    {
     "cell_type": "markdown",
     "metadata": {
      "cell_tags": [
       "challenges"
      ]
     },
     "source": [
      "#### Challenges\n",
      "\n",
      "1.  `True` and `False` aren't the only values in Python that are true and false.\n",
      "    In fact, *any* value can be used in an `if` or `elif`.\n",
      "    After reading and running the code below,\n",
      "    explain what the rule is for which values are considered true and which are considered false.\n",
      "    (Note that if the body of a conditional is a single statement, we can write it on the same line as the `if`.)\n",
      "    \n",
      "    ~~~python\n",
      "    if '': print 'empty string is true'\n",
      "    if 'word': print 'word is true'\n",
      "    if []: print 'empty list is true'\n",
      "    if [1, 2, 3]: print 'non-empty list is true'\n",
      "    if 0: print 'zero is true'\n",
      "    if 1: print 'one is true'\n",
      "    ~~~\n",
      "\n",
      "2.  Write a function called `near` that returns `True` if its first parameter is within 10% of its second\n",
      "    and `False` otherwise.\n",
      "    Compare your implementation with your partner's:\n",
      "    do you return the same answer for all possible pairs of numbers?"
     ]
    },
    {
     "cell_type": "markdown",
     "metadata": {},
     "source": [
      "Working with data"
     ]
    },
    {
     "cell_type": "markdown",
     "metadata": {},
     "source": [
      "Python has some basic data structures that allow storage of more than one variable.  \n",
      "The list is one of these.  We can create a list using square brackets [] and commas."
     ]
    },
    {
     "cell_type": "code",
     "collapsed": false,
     "input": [
      "numbers = [-5, 3, 2, -1, 9, 6]"
     ],
     "language": "python",
     "metadata": {},
     "outputs": []
    },
    {
     "cell_type": "markdown",
     "metadata": {},
     "source": [
      "We can use a for loop to give us each of these items one at a time."
     ]
    },
    {
     "cell_type": "code",
     "collapsed": false,
     "input": [
      "for n in numbers:\n",
      "    print n"
     ],
     "language": "python",
     "metadata": {},
     "outputs": []
    },
    {
     "cell_type": "markdown",
     "metadata": {},
     "source": [
      "Challenge:  see if you can write a for loop to find the sum of all the numbers in the \n",
      "list `numbers`."
     ]
    },
    {
     "cell_type": "heading",
     "level": 3,
     "metadata": {
      "cell_tags": []
     },
     "source": [
      "Nesting"
     ]
    },
    {
     "cell_type": "markdown",
     "metadata": {
      "cell_tags": []
     },
     "source": [
      "Another thing to realize is that `if` statements can be combined with loops\n",
      "just as easily as they can be combined with functions.\n",
      "For example,\n",
      "if we want to sum the positive numbers in a list,\n",
      "we can write this:"
     ]
    },
    {
     "cell_type": "code",
     "collapsed": false,
     "input": [
      "numbers = [-5, 3, 2, -1, 9, 6]\n",
      "total = 0\n",
      "for n in numbers:\n",
      "    if n >= 0:\n",
      "        total = total + n\n",
      "print 'sum of positive values:', total"
     ],
     "language": "python",
     "metadata": {
      "cell_tags": []
     },
     "outputs": [
      {
       "output_type": "stream",
       "stream": "stdout",
       "text": [
        "sum of positive values: 20\n"
       ]
      }
     ],
     "prompt_number": 20
    },
    {
     "cell_type": "markdown",
     "metadata": {
      "cell_tags": []
     },
     "source": [
      "We could equally well calculate the positive and negative sums in a single loop:"
     ]
    },
    {
     "cell_type": "code",
     "collapsed": false,
     "input": [
      "pos_total = 0\n",
      "neg_total = 0\n",
      "for n in numbers:\n",
      "    if n >= 0:\n",
      "        pos_total = pos_total + n\n",
      "    else:\n",
      "        neg_total = neg_total + n\n",
      "print 'negative and positive sums are:', neg_total, pos_total"
     ],
     "language": "python",
     "metadata": {
      "cell_tags": []
     },
     "outputs": [
      {
       "output_type": "stream",
       "stream": "stdout",
       "text": [
        "negative and positive sums are: -6 20\n"
       ]
      }
     ],
     "prompt_number": 21
    },
    {
     "cell_type": "markdown",
     "metadata": {
      "cell_tags": []
     },
     "source": [
      "We can even put one loop inside another:"
     ]
    },
    {
     "cell_type": "code",
     "collapsed": false,
     "input": [
      "for consonant in 'bcd':\n",
      "    for vowel in 'ae':\n",
      "        print consonant + vowel"
     ],
     "language": "python",
     "metadata": {
      "cell_tags": []
     },
     "outputs": [
      {
       "output_type": "stream",
       "stream": "stdout",
       "text": [
        "ba\n",
        "be\n",
        "ca\n",
        "ce\n",
        "da\n",
        "de\n"
       ]
      }
     ],
     "prompt_number": 22
    },
    {
     "cell_type": "markdown",
     "metadata": {
      "cell_tags": []
     },
     "source": [
      "As the diagram below shows,\n",
      "the [inner loop](../../gloss.html#inner-loop) runs from start to finish\n",
      "each time the [outer loop](../../gloss.html#outer-loop) runs once:"
     ]
    },
    {
     "cell_type": "markdown",
     "metadata": {
      "cell_tags": []
     },
     "source": [
      "<img src=\"files/img/python-flowchart-nested-loops.svg\" alt=\"Execution of Nested Loops\" />"
     ]
    },
    {
     "cell_type": "markdown",
     "metadata": {},
     "source": [
      "#### Parsing a datafile"
     ]
    },
    {
     "cell_type": "markdown",
     "metadata": {},
     "source": [
      "`for` loops have a few essential parts:\n",
      "1. The keyword for\n",
      "2. a *dummy variable* that is assigned at the start of each iteration\n",
      "3. the keyword in\n",
      "4. a python object that is iterable--it must know how to give the first item and the following item.\n",
      "5. a colon and a newline\n",
      "6. an indented block\n",
      "If any of these are missing, python will report a SyntaxError.\n",
      "\n",
      "Many python data structures in addition to strings, files, and lists are iterable, and for loops have the same structure."
     ]
    },
    {
     "cell_type": "code",
     "collapsed": false,
     "input": [
      "#  This code snippet opens a file and prints the lines on at a time.\n",
      "datafile = open('small-01.csv')\n",
      "for line in datafile:\n",
      "    print line"
     ],
     "language": "python",
     "metadata": {
      "cell_tags": []
     },
     "outputs": [
      {
       "output_type": "stream",
       "stream": "stdout",
       "text": [
        "0,0,1\n",
        "\n",
        "0,1,2\n",
        "\n"
       ]
      }
     ],
     "prompt_number": 2
    },
    {
     "cell_type": "markdown",
     "metadata": {
      "cell_tags": []
     },
     "source": []
    },
    {
     "cell_type": "markdown",
     "metadata": {
      "cell_tags": []
     },
     "source": [
      "Suppose we want to add all the numbers in all the columns of every line of the file.   Our `line` variable, unfortuately, is a string, not a list of numbers.  We can convert it to a slist of numbers like this:"
     ]
    },
    {
     "cell_type": "markdown",
     "metadata": {
      "cell_tags": []
     },
     "source": [
      "line.strip().split(\",\")"
     ]
    },
    {
     "cell_type": "markdown",
     "metadata": {
      "cell_tags": []
     },
     "source": [
      "#### Challenge:  \n",
      "find out what `strip()` did just here."
     ]
    },
    {
     "cell_type": "code",
     "collapsed": false,
     "input": [
      "#  This code snippet opens a file and prints the lines on at a time.\n",
      "datafile = open('small-01.csv')\n",
      "for line in datafile:\n",
      "    print line.strip.split()\n"
     ],
     "language": "python",
     "metadata": {},
     "outputs": []
    },
    {
     "cell_type": "code",
     "collapsed": false,
     "input": [
      "#### Challenge:  \n",
      "write a function that takes a comma-separated filename as an argument and \n",
      "returns the sum of all the numbers in the file."
     ],
     "language": "python",
     "metadata": {},
     "outputs": []
    },
    {
     "cell_type": "markdown",
     "metadata": {
      "cell_tags": [
       "keypoints"
      ]
     },
     "source": [
      "#### Key Points\n",
      "\n",
      "*   Use `if condition` to start a conditional statement, `elif condition` to provide additional tests, and `else` to provide a default.\n",
      "*   The bodies of the branches of conditional statements must be indented.\n",
      "*   Use `==` to test for equality.\n",
      "*   `X and Y` is only true if both X and Y are true.\n",
      "*   `X or Y` is true if either X or Y, or both, are true.\n",
      "*   Zero, the empty string, and the empty list are considered false; all other numbers, strings, and lists are considered true.\n",
      "*   Nest loops to operate on multi-dimensional data.\n",
      "*   Put code whose parameters change frequently in a function, then call it with different parameter values to customize its behavior."
     ]
    },
    {
     "cell_type": "markdown",
     "metadata": {
      "cell_tags": []
     },
     "source": [
      "#### Next Steps\n",
      "\n",
      "As the functions we write get longer, the chances that we've done everything correctly go to zero.\n",
      "Before we go any further,\n",
      "we need to learn how to test whether our code is doing what we want it to do,\n",
      "and that will be the subject of the next lesson."
     ]
    }
   ],
   "metadata": {}
  }
 ]
}